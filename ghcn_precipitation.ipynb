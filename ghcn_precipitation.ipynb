{
 "cells": [
  {
   "cell_type": "markdown",
   "id": "appreciated-detail",
   "metadata": {},
   "source": [
    "# GHCN Weather Data\n",
    "NOAA’s Global Historical Climatology Network (GHCN) collects climate summaries from thousands of weather stations around the globe. Two GHCN data sets, GHCN-D and GHCN-M are publicly available on Google BigQuery. The GHCN-D data set summarizes observed conditons by day, while GHCN-M provides summarized obsevations by month. Descriptions for both the [daily](https://www1.ncdc.noaa.gov/pub/data/ghcn/daily/readme.txt) and [monthly](https://www1.ncdc.noaa.gov/pub/data/ghcn/v4/readme.txt) data sets are available through NOAA's website. In this notebook we will explore precipitation totals near a given landmark using the GHCN-D data set.\n",
    "\n",
    "We start by importing the necessary libraries and setting the `GOOGLE_APPLICATION_CREDENTIALS` environment variable to the path that our Google BigQuery credential file is stored in (see Google's documentation on [Getting started with authentication](https://cloud.google.com/docs/authentication/getting-started) for details). The path to our credentials is stored in `google_app_cred.py`."
   ]
  },
  {
   "cell_type": "code",
   "execution_count": 1,
   "id": "stock-armenia",
   "metadata": {},
   "outputs": [],
   "source": [
    "# Load bigquery magic and import neccessary libraries\n",
    "%load_ext google.cloud.bigquery\n",
    "import google_app_cred\n",
    "import pandas as pd\n",
    "import numpy as np\n",
    "import matplotlib.pyplot as plt\n",
    "import seaborn as sns\n",
    "import os\n",
    "\n",
    "# Set environment variable for bigquery credentials\n",
    "os.environ['GOOGLE_APPLICATION_CREDENTIALS'] = google_app_cred.CREDENTIAL_PATH"
   ]
  },
  {
   "cell_type": "markdown",
   "id": "guided-staff",
   "metadata": {},
   "source": [
    "## Precipitation Totals near a Given Landmark\n",
    "### Station Selection\n",
    "Since we are looking for precipitation totals near a given landmark, we will first have to select a station near that landmark. The landmark used in this notebook is [Jackson Falls](https://www.fs.usda.gov/recarea/shawnee/recarea/?recid=32359), a popular rock climbing destination in Shawnee National Forest. The latitude and longitude for this landmark have been copied from the US Forest Service website. "
   ]
  },
  {
   "cell_type": "code",
   "execution_count": 2,
   "id": "stainless-likelihood",
   "metadata": {},
   "outputs": [],
   "source": [
    "# Set coordinates of landmark\n",
    "landmark_lat = 37.509167\n",
    "landmark_lon = -88.68305\n",
    "coordinates = {'landmark_lat': landmark_lat, 'landmark_lon': landmark_lon}"
   ]
  },
  {
   "cell_type": "markdown",
   "id": "sublime-adelaide",
   "metadata": {},
   "source": [
    "With our parameters set, we are ready to query the `ghcnd_stations` table in the ghcn_d database. We will restrict our search to stations within 0.1 degrees of latitude and longitude of our chosen landmark."
   ]
  },
  {
   "cell_type": "code",
   "execution_count": 3,
   "id": "mexican-coordinator",
   "metadata": {},
   "outputs": [
    {
     "name": "stderr",
     "output_type": "stream",
     "text": [
      "Query complete after 0.11s: 100%|██████████| 1/1 [00:00<00:00, 524.22query/s]                          \n",
      "Downloading: 100%|██████████| 6/6 [00:03<00:00,  1.93rows/s]\n"
     ]
    }
   ],
   "source": [
    "%%bigquery stations --params $coordinates\n",
    "SELECT\n",
    "  id,\n",
    "  name,\n",
    "  state,\n",
    "  latitude,\n",
    "  longitude\n",
    "FROM\n",
    "  `bigquery-public-data.ghcn_d.ghcnd_stations`\n",
    "WHERE\n",
    "  latitude > @landmark_lat - 0.1\n",
    "  AND latitude < @landmark_lat + 0.1\n",
    "  AND longitude > @landmark_lon - 0.1\n",
    "  AND longitude < @landmark_lon + 0.1"
   ]
  },
  {
   "cell_type": "markdown",
   "id": "first-turning",
   "metadata": {},
   "source": [
    "Let us preview the returned dataframe."
   ]
  },
  {
   "cell_type": "code",
   "execution_count": 4,
   "id": "developmental-tribe",
   "metadata": {},
   "outputs": [
    {
     "data": {
      "text/html": [
       "<div>\n",
       "<style scoped>\n",
       "    .dataframe tbody tr th:only-of-type {\n",
       "        vertical-align: middle;\n",
       "    }\n",
       "\n",
       "    .dataframe tbody tr th {\n",
       "        vertical-align: top;\n",
       "    }\n",
       "\n",
       "    .dataframe thead th {\n",
       "        text-align: right;\n",
       "    }\n",
       "</style>\n",
       "<table border=\"1\" class=\"dataframe\">\n",
       "  <thead>\n",
       "    <tr style=\"text-align: right;\">\n",
       "      <th></th>\n",
       "      <th>id</th>\n",
       "      <th>name</th>\n",
       "      <th>state</th>\n",
       "      <th>latitude</th>\n",
       "      <th>longitude</th>\n",
       "    </tr>\n",
       "  </thead>\n",
       "  <tbody>\n",
       "    <tr>\n",
       "      <th>0</th>\n",
       "      <td>USC00112651</td>\n",
       "      <td>EDDYVILLE</td>\n",
       "      <td>IL</td>\n",
       "      <td>37.5000</td>\n",
       "      <td>-88.5833</td>\n",
       "    </tr>\n",
       "    <tr>\n",
       "      <th>1</th>\n",
       "      <td>USC00113482</td>\n",
       "      <td>DIXON SPRINGS AGR CTR</td>\n",
       "      <td>IL</td>\n",
       "      <td>37.4333</td>\n",
       "      <td>-88.6667</td>\n",
       "    </tr>\n",
       "    <tr>\n",
       "      <th>2</th>\n",
       "      <td>USC00116093</td>\n",
       "      <td>NEW BURNSIDE</td>\n",
       "      <td>IL</td>\n",
       "      <td>37.5833</td>\n",
       "      <td>-88.7667</td>\n",
       "    </tr>\n",
       "    <tr>\n",
       "      <th>3</th>\n",
       "      <td>USC00112353</td>\n",
       "      <td>DIXON SPRINGS AGRIC CTR</td>\n",
       "      <td>IL</td>\n",
       "      <td>37.4389</td>\n",
       "      <td>-88.6678</td>\n",
       "    </tr>\n",
       "    <tr>\n",
       "      <th>4</th>\n",
       "      <td>USR0000IDIX</td>\n",
       "      <td>DIXON SPRINGS ILLINOIS</td>\n",
       "      <td>IL</td>\n",
       "      <td>37.4361</td>\n",
       "      <td>-88.6672</td>\n",
       "    </tr>\n",
       "    <tr>\n",
       "      <th>5</th>\n",
       "      <td>US1ILJH0001</td>\n",
       "      <td>NEW BURNSIDE 1.8 ENE</td>\n",
       "      <td>IL</td>\n",
       "      <td>37.5884</td>\n",
       "      <td>-88.7432</td>\n",
       "    </tr>\n",
       "  </tbody>\n",
       "</table>\n",
       "</div>"
      ],
      "text/plain": [
       "            id                            name state  latitude  longitude\n",
       "0  USC00112651  EDDYVILLE                         IL   37.5000   -88.5833\n",
       "1  USC00113482  DIXON SPRINGS AGR CTR             IL   37.4333   -88.6667\n",
       "2  USC00116093  NEW BURNSIDE                      IL   37.5833   -88.7667\n",
       "3  USC00112353  DIXON SPRINGS AGRIC CTR           IL   37.4389   -88.6678\n",
       "4  USR0000IDIX  DIXON SPRINGS ILLINOIS            IL   37.4361   -88.6672\n",
       "5  US1ILJH0001  NEW BURNSIDE 1.8 ENE              IL   37.5884   -88.7432"
      ]
     },
     "execution_count": 4,
     "metadata": {},
     "output_type": "execute_result"
    }
   ],
   "source": [
    "# Preview returned stations\n",
    "stations.head(10)"
   ]
  },
  {
   "cell_type": "markdown",
   "id": "intensive-pacific",
   "metadata": {},
   "source": [
    "We have six possible stations to choose from. To simplify our analysis, let us choose the station that is closest to our landmark. Given that each station is relatively near the others, we will treat the latitude and longitude as points on a cartesian plane. This allows us to use the Euclidean distance (the standard \"distance formula\") as our measure of distance."
   ]
  },
  {
   "cell_type": "code",
   "execution_count": 5,
   "id": "accompanied-cholesterol",
   "metadata": {},
   "outputs": [
    {
     "data": {
      "text/html": [
       "<div>\n",
       "<style scoped>\n",
       "    .dataframe tbody tr th:only-of-type {\n",
       "        vertical-align: middle;\n",
       "    }\n",
       "\n",
       "    .dataframe tbody tr th {\n",
       "        vertical-align: top;\n",
       "    }\n",
       "\n",
       "    .dataframe thead th {\n",
       "        text-align: right;\n",
       "    }\n",
       "</style>\n",
       "<table border=\"1\" class=\"dataframe\">\n",
       "  <thead>\n",
       "    <tr style=\"text-align: right;\">\n",
       "      <th></th>\n",
       "      <th>id</th>\n",
       "      <th>name</th>\n",
       "      <th>state</th>\n",
       "      <th>latitude</th>\n",
       "      <th>longitude</th>\n",
       "      <th>coordinate_dist</th>\n",
       "    </tr>\n",
       "  </thead>\n",
       "  <tbody>\n",
       "    <tr>\n",
       "      <th>3</th>\n",
       "      <td>USC00112353</td>\n",
       "      <td>DIXON SPRINGS AGRIC CTR</td>\n",
       "      <td>IL</td>\n",
       "      <td>37.4389</td>\n",
       "      <td>-88.6678</td>\n",
       "      <td>0.071903</td>\n",
       "    </tr>\n",
       "    <tr>\n",
       "      <th>4</th>\n",
       "      <td>USR0000IDIX</td>\n",
       "      <td>DIXON SPRINGS ILLINOIS</td>\n",
       "      <td>IL</td>\n",
       "      <td>37.4361</td>\n",
       "      <td>-88.6672</td>\n",
       "      <td>0.074766</td>\n",
       "    </tr>\n",
       "    <tr>\n",
       "      <th>1</th>\n",
       "      <td>USC00113482</td>\n",
       "      <td>DIXON SPRINGS AGR CTR</td>\n",
       "      <td>IL</td>\n",
       "      <td>37.4333</td>\n",
       "      <td>-88.6667</td>\n",
       "      <td>0.077609</td>\n",
       "    </tr>\n",
       "    <tr>\n",
       "      <th>5</th>\n",
       "      <td>US1ILJH0001</td>\n",
       "      <td>NEW BURNSIDE 1.8 ENE</td>\n",
       "      <td>IL</td>\n",
       "      <td>37.5884</td>\n",
       "      <td>-88.7432</td>\n",
       "      <td>0.099478</td>\n",
       "    </tr>\n",
       "    <tr>\n",
       "      <th>0</th>\n",
       "      <td>USC00112651</td>\n",
       "      <td>EDDYVILLE</td>\n",
       "      <td>IL</td>\n",
       "      <td>37.5000</td>\n",
       "      <td>-88.5833</td>\n",
       "      <td>0.100170</td>\n",
       "    </tr>\n",
       "    <tr>\n",
       "      <th>2</th>\n",
       "      <td>USC00116093</td>\n",
       "      <td>NEW BURNSIDE</td>\n",
       "      <td>IL</td>\n",
       "      <td>37.5833</td>\n",
       "      <td>-88.7667</td>\n",
       "      <td>0.111772</td>\n",
       "    </tr>\n",
       "  </tbody>\n",
       "</table>\n",
       "</div>"
      ],
      "text/plain": [
       "            id                            name state  latitude  longitude  \\\n",
       "3  USC00112353  DIXON SPRINGS AGRIC CTR           IL   37.4389   -88.6678   \n",
       "4  USR0000IDIX  DIXON SPRINGS ILLINOIS            IL   37.4361   -88.6672   \n",
       "1  USC00113482  DIXON SPRINGS AGR CTR             IL   37.4333   -88.6667   \n",
       "5  US1ILJH0001  NEW BURNSIDE 1.8 ENE              IL   37.5884   -88.7432   \n",
       "0  USC00112651  EDDYVILLE                         IL   37.5000   -88.5833   \n",
       "2  USC00116093  NEW BURNSIDE                      IL   37.5833   -88.7667   \n",
       "\n",
       "   coordinate_dist  \n",
       "3         0.071903  \n",
       "4         0.074766  \n",
       "1         0.077609  \n",
       "5         0.099478  \n",
       "0         0.100170  \n",
       "2         0.111772  "
      ]
     },
     "execution_count": 5,
     "metadata": {},
     "output_type": "execute_result"
    }
   ],
   "source": [
    "# Calculate Euclidean distance from landmark to stations\n",
    "stations['coordinate_dist'] = np.sqrt((stations['latitude'] - landmark_lat)**2 + \n",
    "                                      (stations['longitude'] - landmark_lon)**2)\n",
    "stations.sort_values(by='coordinate_dist')"
   ]
  },
  {
   "cell_type": "markdown",
   "id": "tropical-james",
   "metadata": {},
   "source": [
    "The `DIXON SPRINGS AGRIC CTR` station is closest to our landmark, so we will start with selecting this station. "
   ]
  },
  {
   "cell_type": "code",
   "execution_count": 6,
   "id": "apparent-armor",
   "metadata": {},
   "outputs": [],
   "source": [
    "# Select station closest to landmark\n",
    "closest_station = stations.loc[3, 'id']\n",
    "station_params = {'station_id': closest_station}"
   ]
  },
  {
   "cell_type": "markdown",
   "id": "pleasant-minimum",
   "metadata": {},
   "source": [
    "### Total Monthly Precipitation"
   ]
  },
  {
   "cell_type": "markdown",
   "id": "unlimited-vienna",
   "metadata": {},
   "source": [
    "Now that we have selected a station, we can aggregate precipitation data from that station. The GHCN-D data set is broken into tables by year, so we will focus on 2020 since it is the latest year for which we will have complete data. We will start by summing the total precipitation for each month."
   ]
  },
  {
   "cell_type": "code",
   "execution_count": 7,
   "id": "satisfactory-reward",
   "metadata": {},
   "outputs": [
    {
     "name": "stderr",
     "output_type": "stream",
     "text": [
      "Query complete after 0.01s: 100%|██████████| 3/3 [00:00<00:00, 438.37query/s]                         \n",
      "Downloading: 100%|██████████| 11/11 [00:02<00:00,  3.76rows/s]\n"
     ]
    }
   ],
   "source": [
    "%%bigquery monthly_precip --params $station_params\n",
    "SELECT\n",
    "  EXTRACT(MONTH FROM date) AS month,\n",
    "  SUM(value) AS total_precip\n",
    "FROM\n",
    "  `bigquery-public-data.ghcn_d.ghcnd_2020`\n",
    "WHERE\n",
    "  id = @station_id\n",
    "  AND element = \"PRCP\"\n",
    "GROUP BY \n",
    "  1\n",
    "ORDER BY 1"
   ]
  },
  {
   "cell_type": "markdown",
   "id": "premium-train",
   "metadata": {},
   "source": [
    "We will sort by month and view the totals for each month. Note that the quantity given is in tenths of millimeters. "
   ]
  },
  {
   "cell_type": "code",
   "execution_count": 8,
   "id": "competitive-kernel",
   "metadata": {},
   "outputs": [
    {
     "data": {
      "text/html": [
       "<div>\n",
       "<style scoped>\n",
       "    .dataframe tbody tr th:only-of-type {\n",
       "        vertical-align: middle;\n",
       "    }\n",
       "\n",
       "    .dataframe tbody tr th {\n",
       "        vertical-align: top;\n",
       "    }\n",
       "\n",
       "    .dataframe thead th {\n",
       "        text-align: right;\n",
       "    }\n",
       "</style>\n",
       "<table border=\"1\" class=\"dataframe\">\n",
       "  <thead>\n",
       "    <tr style=\"text-align: right;\">\n",
       "      <th></th>\n",
       "      <th>month</th>\n",
       "      <th>total_precip</th>\n",
       "    </tr>\n",
       "  </thead>\n",
       "  <tbody>\n",
       "    <tr>\n",
       "      <th>0</th>\n",
       "      <td>1</td>\n",
       "      <td>410.0</td>\n",
       "    </tr>\n",
       "    <tr>\n",
       "      <th>1</th>\n",
       "      <td>2</td>\n",
       "      <td>854.0</td>\n",
       "    </tr>\n",
       "    <tr>\n",
       "      <th>2</th>\n",
       "      <td>3</td>\n",
       "      <td>491.0</td>\n",
       "    </tr>\n",
       "    <tr>\n",
       "      <th>3</th>\n",
       "      <td>4</td>\n",
       "      <td>0.0</td>\n",
       "    </tr>\n",
       "    <tr>\n",
       "      <th>4</th>\n",
       "      <td>5</td>\n",
       "      <td>105.0</td>\n",
       "    </tr>\n",
       "    <tr>\n",
       "      <th>5</th>\n",
       "      <td>6</td>\n",
       "      <td>419.0</td>\n",
       "    </tr>\n",
       "    <tr>\n",
       "      <th>6</th>\n",
       "      <td>7</td>\n",
       "      <td>628.0</td>\n",
       "    </tr>\n",
       "    <tr>\n",
       "      <th>7</th>\n",
       "      <td>8</td>\n",
       "      <td>255.0</td>\n",
       "    </tr>\n",
       "    <tr>\n",
       "      <th>8</th>\n",
       "      <td>9</td>\n",
       "      <td>8.0</td>\n",
       "    </tr>\n",
       "    <tr>\n",
       "      <th>9</th>\n",
       "      <td>10</td>\n",
       "      <td>1238.0</td>\n",
       "    </tr>\n",
       "    <tr>\n",
       "      <th>10</th>\n",
       "      <td>12</td>\n",
       "      <td>0.0</td>\n",
       "    </tr>\n",
       "  </tbody>\n",
       "</table>\n",
       "</div>"
      ],
      "text/plain": [
       "    month  total_precip\n",
       "0       1         410.0\n",
       "1       2         854.0\n",
       "2       3         491.0\n",
       "3       4           0.0\n",
       "4       5         105.0\n",
       "5       6         419.0\n",
       "6       7         628.0\n",
       "7       8         255.0\n",
       "8       9           8.0\n",
       "9      10        1238.0\n",
       "10     12           0.0"
      ]
     },
     "execution_count": 8,
     "metadata": {},
     "output_type": "execute_result"
    }
   ],
   "source": [
    "# Preview data\n",
    "monthly_precip"
   ]
  },
  {
   "cell_type": "markdown",
   "id": "broken-oakland",
   "metadata": {},
   "source": [
    "The month of November is missing entirely from this data set, and both April and December have a total of 0 tenths of a millimeter. While this could indicate that there was no measurable precipitation at that station for those three months, it seems more likely that the data from this station is incomplete.\n",
    "\n",
    "Let us try pulling data for every station within our 0.1 degree range to see if any station has more complete data."
   ]
  },
  {
   "cell_type": "code",
   "execution_count": 9,
   "id": "proprietary-fraction",
   "metadata": {},
   "outputs": [
    {
     "name": "stderr",
     "output_type": "stream",
     "text": [
      "Query complete after 0.02s: 100%|██████████| 4/4 [00:00<00:00, 451.12query/s]                         \n",
      "Downloading: 100%|██████████| 23/23 [00:03<00:00,  7.64rows/s]\n"
     ]
    }
   ],
   "source": [
    "%%bigquery stations_monthly --params $coordinates\n",
    "\n",
    "WITH stations AS (\n",
    "  SELECT\n",
    "    id,\n",
    "    name\n",
    "  FROM\n",
    "    `bigquery-public-data.ghcn_d.ghcnd_stations`\n",
    "  WHERE\n",
    "    latitude > @landmark_lat - 0.1\n",
    "    AND latitude < @landmark_lat + 0.1\n",
    "    AND longitude > @landmark_lon - 0.1\n",
    "    AND longitude < @landmark_lon + 0.1\n",
    ")\n",
    "\n",
    "SELECT\n",
    "  EXTRACT(MONTH FROM date) AS month,\n",
    "  s.name AS station,\n",
    "  SUM(value) AS total_precip\n",
    "FROM\n",
    "  stations AS s\n",
    "LEFT JOIN\n",
    "  `bigquery-public-data.ghcn_d.ghcnd_2020` AS d\n",
    "  ON s.id = d.id\n",
    "WHERE\n",
    "  d.element = \"PRCP\"\n",
    "GROUP BY \n",
    "  1, 2\n",
    "ORDER BY\n",
    "  1, 2"
   ]
  },
  {
   "cell_type": "markdown",
   "id": "legitimate-cardiff",
   "metadata": {},
   "source": [
    "Let us count how many times each station occurs in the returned dataframe."
   ]
  },
  {
   "cell_type": "code",
   "execution_count": 10,
   "id": "religious-parts",
   "metadata": {
    "scrolled": false
   },
   "outputs": [
    {
     "data": {
      "text/plain": [
       "NEW BURNSIDE 1.8 ENE              12\n",
       "DIXON SPRINGS AGRIC CTR           11\n",
       "Name: station, dtype: int64"
      ]
     },
     "execution_count": 10,
     "metadata": {},
     "output_type": "execute_result"
    }
   ],
   "source": [
    "stations_monthly['station'].value_counts()"
   ]
  },
  {
   "cell_type": "markdown",
   "id": "fourth-blackberry",
   "metadata": {},
   "source": [
    "Interestingly, only two of the stations recorded precipitation data in 2020. Let us take a closer look at the data for the `NEW BURNSIDE 1.8 ENE` station to see if it seems reasonable. We will also remove whitespace from around the station names to make subsetting the dataframe easier."
   ]
  },
  {
   "cell_type": "code",
   "execution_count": 11,
   "id": "optical-behalf",
   "metadata": {},
   "outputs": [
    {
     "data": {
      "text/html": [
       "<div>\n",
       "<style scoped>\n",
       "    .dataframe tbody tr th:only-of-type {\n",
       "        vertical-align: middle;\n",
       "    }\n",
       "\n",
       "    .dataframe tbody tr th {\n",
       "        vertical-align: top;\n",
       "    }\n",
       "\n",
       "    .dataframe thead th {\n",
       "        text-align: right;\n",
       "    }\n",
       "</style>\n",
       "<table border=\"1\" class=\"dataframe\">\n",
       "  <thead>\n",
       "    <tr style=\"text-align: right;\">\n",
       "      <th></th>\n",
       "      <th>month</th>\n",
       "      <th>station</th>\n",
       "      <th>total_precip</th>\n",
       "    </tr>\n",
       "  </thead>\n",
       "  <tbody>\n",
       "    <tr>\n",
       "      <th>1</th>\n",
       "      <td>1</td>\n",
       "      <td>NEW BURNSIDE 1.8 ENE</td>\n",
       "      <td>1571.0</td>\n",
       "    </tr>\n",
       "    <tr>\n",
       "      <th>3</th>\n",
       "      <td>2</td>\n",
       "      <td>NEW BURNSIDE 1.8 ENE</td>\n",
       "      <td>925.0</td>\n",
       "    </tr>\n",
       "    <tr>\n",
       "      <th>5</th>\n",
       "      <td>3</td>\n",
       "      <td>NEW BURNSIDE 1.8 ENE</td>\n",
       "      <td>1641.0</td>\n",
       "    </tr>\n",
       "    <tr>\n",
       "      <th>7</th>\n",
       "      <td>4</td>\n",
       "      <td>NEW BURNSIDE 1.8 ENE</td>\n",
       "      <td>477.0</td>\n",
       "    </tr>\n",
       "    <tr>\n",
       "      <th>9</th>\n",
       "      <td>5</td>\n",
       "      <td>NEW BURNSIDE 1.8 ENE</td>\n",
       "      <td>1134.0</td>\n",
       "    </tr>\n",
       "    <tr>\n",
       "      <th>11</th>\n",
       "      <td>6</td>\n",
       "      <td>NEW BURNSIDE 1.8 ENE</td>\n",
       "      <td>1857.0</td>\n",
       "    </tr>\n",
       "    <tr>\n",
       "      <th>13</th>\n",
       "      <td>7</td>\n",
       "      <td>NEW BURNSIDE 1.8 ENE</td>\n",
       "      <td>729.0</td>\n",
       "    </tr>\n",
       "    <tr>\n",
       "      <th>15</th>\n",
       "      <td>8</td>\n",
       "      <td>NEW BURNSIDE 1.8 ENE</td>\n",
       "      <td>1119.0</td>\n",
       "    </tr>\n",
       "    <tr>\n",
       "      <th>17</th>\n",
       "      <td>9</td>\n",
       "      <td>NEW BURNSIDE 1.8 ENE</td>\n",
       "      <td>620.0</td>\n",
       "    </tr>\n",
       "    <tr>\n",
       "      <th>19</th>\n",
       "      <td>10</td>\n",
       "      <td>NEW BURNSIDE 1.8 ENE</td>\n",
       "      <td>2124.0</td>\n",
       "    </tr>\n",
       "    <tr>\n",
       "      <th>20</th>\n",
       "      <td>11</td>\n",
       "      <td>NEW BURNSIDE 1.8 ENE</td>\n",
       "      <td>751.0</td>\n",
       "    </tr>\n",
       "    <tr>\n",
       "      <th>22</th>\n",
       "      <td>12</td>\n",
       "      <td>NEW BURNSIDE 1.8 ENE</td>\n",
       "      <td>678.0</td>\n",
       "    </tr>\n",
       "  </tbody>\n",
       "</table>\n",
       "</div>"
      ],
      "text/plain": [
       "    month               station  total_precip\n",
       "1       1  NEW BURNSIDE 1.8 ENE        1571.0\n",
       "3       2  NEW BURNSIDE 1.8 ENE         925.0\n",
       "5       3  NEW BURNSIDE 1.8 ENE        1641.0\n",
       "7       4  NEW BURNSIDE 1.8 ENE         477.0\n",
       "9       5  NEW BURNSIDE 1.8 ENE        1134.0\n",
       "11      6  NEW BURNSIDE 1.8 ENE        1857.0\n",
       "13      7  NEW BURNSIDE 1.8 ENE         729.0\n",
       "15      8  NEW BURNSIDE 1.8 ENE        1119.0\n",
       "17      9  NEW BURNSIDE 1.8 ENE         620.0\n",
       "19     10  NEW BURNSIDE 1.8 ENE        2124.0\n",
       "20     11  NEW BURNSIDE 1.8 ENE         751.0\n",
       "22     12  NEW BURNSIDE 1.8 ENE         678.0"
      ]
     },
     "execution_count": 11,
     "metadata": {},
     "output_type": "execute_result"
    }
   ],
   "source": [
    "# Strip station names and sort by month\n",
    "stations_monthly['station'] = stations_monthly['station'].str.strip()\n",
    "\n",
    "# Select only New Burnside \n",
    "stations_monthly[stations_monthly['station'] == 'NEW BURNSIDE 1.8 ENE']"
   ]
  },
  {
   "cell_type": "markdown",
   "id": "artificial-imaging",
   "metadata": {},
   "source": [
    "These values seem much more reasonable than those from the first station. Let us select only the observations from `NEW BURNSIDE 1.8 ENE` for the rest of this analysis. We will also want to convert the `total_precip` column to inches."
   ]
  },
  {
   "cell_type": "code",
   "execution_count": 12,
   "id": "suitable-cherry",
   "metadata": {},
   "outputs": [
    {
     "data": {
      "text/html": [
       "<div>\n",
       "<style scoped>\n",
       "    .dataframe tbody tr th:only-of-type {\n",
       "        vertical-align: middle;\n",
       "    }\n",
       "\n",
       "    .dataframe tbody tr th {\n",
       "        vertical-align: top;\n",
       "    }\n",
       "\n",
       "    .dataframe thead th {\n",
       "        text-align: right;\n",
       "    }\n",
       "</style>\n",
       "<table border=\"1\" class=\"dataframe\">\n",
       "  <thead>\n",
       "    <tr style=\"text-align: right;\">\n",
       "      <th></th>\n",
       "      <th>station</th>\n",
       "      <th>total_precip</th>\n",
       "    </tr>\n",
       "    <tr>\n",
       "      <th>month</th>\n",
       "      <th></th>\n",
       "      <th></th>\n",
       "    </tr>\n",
       "  </thead>\n",
       "  <tbody>\n",
       "    <tr>\n",
       "      <th>1</th>\n",
       "      <td>NEW BURNSIDE 1.8 ENE</td>\n",
       "      <td>6.185039</td>\n",
       "    </tr>\n",
       "    <tr>\n",
       "      <th>2</th>\n",
       "      <td>NEW BURNSIDE 1.8 ENE</td>\n",
       "      <td>3.641732</td>\n",
       "    </tr>\n",
       "    <tr>\n",
       "      <th>3</th>\n",
       "      <td>NEW BURNSIDE 1.8 ENE</td>\n",
       "      <td>6.460630</td>\n",
       "    </tr>\n",
       "    <tr>\n",
       "      <th>4</th>\n",
       "      <td>NEW BURNSIDE 1.8 ENE</td>\n",
       "      <td>1.877953</td>\n",
       "    </tr>\n",
       "    <tr>\n",
       "      <th>5</th>\n",
       "      <td>NEW BURNSIDE 1.8 ENE</td>\n",
       "      <td>4.464567</td>\n",
       "    </tr>\n",
       "    <tr>\n",
       "      <th>6</th>\n",
       "      <td>NEW BURNSIDE 1.8 ENE</td>\n",
       "      <td>7.311024</td>\n",
       "    </tr>\n",
       "    <tr>\n",
       "      <th>7</th>\n",
       "      <td>NEW BURNSIDE 1.8 ENE</td>\n",
       "      <td>2.870079</td>\n",
       "    </tr>\n",
       "    <tr>\n",
       "      <th>8</th>\n",
       "      <td>NEW BURNSIDE 1.8 ENE</td>\n",
       "      <td>4.405512</td>\n",
       "    </tr>\n",
       "    <tr>\n",
       "      <th>9</th>\n",
       "      <td>NEW BURNSIDE 1.8 ENE</td>\n",
       "      <td>2.440945</td>\n",
       "    </tr>\n",
       "    <tr>\n",
       "      <th>10</th>\n",
       "      <td>NEW BURNSIDE 1.8 ENE</td>\n",
       "      <td>8.362205</td>\n",
       "    </tr>\n",
       "    <tr>\n",
       "      <th>11</th>\n",
       "      <td>NEW BURNSIDE 1.8 ENE</td>\n",
       "      <td>2.956693</td>\n",
       "    </tr>\n",
       "    <tr>\n",
       "      <th>12</th>\n",
       "      <td>NEW BURNSIDE 1.8 ENE</td>\n",
       "      <td>2.669291</td>\n",
       "    </tr>\n",
       "  </tbody>\n",
       "</table>\n",
       "</div>"
      ],
      "text/plain": [
       "                    station  total_precip\n",
       "month                                    \n",
       "1      NEW BURNSIDE 1.8 ENE      6.185039\n",
       "2      NEW BURNSIDE 1.8 ENE      3.641732\n",
       "3      NEW BURNSIDE 1.8 ENE      6.460630\n",
       "4      NEW BURNSIDE 1.8 ENE      1.877953\n",
       "5      NEW BURNSIDE 1.8 ENE      4.464567\n",
       "6      NEW BURNSIDE 1.8 ENE      7.311024\n",
       "7      NEW BURNSIDE 1.8 ENE      2.870079\n",
       "8      NEW BURNSIDE 1.8 ENE      4.405512\n",
       "9      NEW BURNSIDE 1.8 ENE      2.440945\n",
       "10     NEW BURNSIDE 1.8 ENE      8.362205\n",
       "11     NEW BURNSIDE 1.8 ENE      2.956693\n",
       "12     NEW BURNSIDE 1.8 ENE      2.669291"
      ]
     },
     "execution_count": 12,
     "metadata": {},
     "output_type": "execute_result"
    }
   ],
   "source": [
    "# Change earlier parameters\n",
    "selected_station = stations.loc[5, 'id']\n",
    "station_params = {'station_id': selected_station}\n",
    "\n",
    "# Filter by station, sort by month, and set month as index\n",
    "monthly_clean = stations_monthly[stations_monthly['station'] == 'NEW BURNSIDE 1.8 ENE'].copy()\n",
    "monthly_clean.set_index('month', inplace=True)\n",
    "\n",
    "# Convert from tenths of a millimeter to inches\n",
    "monthly_clean['total_precip'] /= 254\n",
    "monthly_clean"
   ]
  },
  {
   "cell_type": "markdown",
   "id": "painted-superior",
   "metadata": {},
   "source": [
    "Now that we have a clean dataframe to work with, we can plot the data using Pandas' built in plotting function and matplotlib."
   ]
  },
  {
   "cell_type": "code",
   "execution_count": 13,
   "id": "covered-uruguay",
   "metadata": {},
   "outputs": [
    {
     "data": {
      "image/png": "[encoded data removed]",
      "text/plain": [
       "<Figure size 864x432 with 1 Axes>"
      ]
     },
     "metadata": {
      "needs_background": "light"
     },
     "output_type": "display_data"
    }
   ],
   "source": [
    "# Create figure and axis objects\n",
    "fig, ax = plt.subplots(figsize=(12, 6))\n",
    "\n",
    "# Plot data, despine figure, and format plot\n",
    "monthly_clean.plot.bar(ax=ax, legend=False, rot=0)\n",
    "sns.despine()\n",
    "ax.set_ylabel('Total Precipitation (in.)', fontsize=16)\n",
    "ax.set_xlabel('Month', fontsize=16)\n",
    "ax.set_title('Monthly Precipitation in 2020', fontsize=24)\n",
    "ax.tick_params(labelsize=12)"
   ]
  },
  {
   "cell_type": "markdown",
   "id": "another-elder",
   "metadata": {},
   "source": [
    "We see that October was the wettest month in Southern Illinois in 2020 according to the observations collected at this station, and April received the least precipitation. These results are somewhat surprising, as there is typically less preicipitaion in the Fall months than in the Spring in Illinois.  "
   ]
  },
  {
   "cell_type": "markdown",
   "id": "rolled-pharmacology",
   "metadata": {},
   "source": [
    "### Number of Days with Precipitation\n",
    "Since our chosen landmark is a rock climbing destination, we will look at one other measure relevant to that activity. Volume of rain is certainly important in determining whether conditions are suitable, but any amount of precipitation can cause problems. Becuase of this, we will also look at the number of days that any precipitation was recorded per month. We will continue to use the readings from the `NEW BURNSIDE 1.8 ENE` station since those were the most complete."
   ]
  },
  {
   "cell_type": "code",
   "execution_count": 14,
   "id": "authorized-safety",
   "metadata": {},
   "outputs": [
    {
     "name": "stderr",
     "output_type": "stream",
     "text": [
      "Query complete after 0.01s: 100%|██████████| 4/4 [00:00<00:00, 472.25query/s]                         \n",
      "Downloading: 100%|██████████| 12/12 [00:02<00:00,  4.08rows/s]\n"
     ]
    }
   ],
   "source": [
    "%%bigquery days_with_precip --params $station_params\n",
    "SELECT\n",
    "  EXTRACT(MONTH FROM date) AS month,\n",
    "  COUNT(DISTINCT EXTRACT(DAY FROM date)) AS days_with_precip\n",
    "FROM\n",
    "  `bigquery-public-data.ghcn_d.ghcnd_2020`\n",
    "WHERE\n",
    "  id = @station_id\n",
    "  AND element = \"PRCP\"\n",
    "  AND value > 0\n",
    "GROUP BY \n",
    "  1\n",
    "ORDER BY\n",
    "  1"
   ]
  },
  {
   "cell_type": "code",
   "execution_count": 15,
   "id": "dutch-lawyer",
   "metadata": {},
   "outputs": [
    {
     "data": {
      "text/html": [
       "<div>\n",
       "<style scoped>\n",
       "    .dataframe tbody tr th:only-of-type {\n",
       "        vertical-align: middle;\n",
       "    }\n",
       "\n",
       "    .dataframe tbody tr th {\n",
       "        vertical-align: top;\n",
       "    }\n",
       "\n",
       "    .dataframe thead th {\n",
       "        text-align: right;\n",
       "    }\n",
       "</style>\n",
       "<table border=\"1\" class=\"dataframe\">\n",
       "  <thead>\n",
       "    <tr style=\"text-align: right;\">\n",
       "      <th></th>\n",
       "      <th>month</th>\n",
       "      <th>days_with_precip</th>\n",
       "    </tr>\n",
       "  </thead>\n",
       "  <tbody>\n",
       "    <tr>\n",
       "      <th>0</th>\n",
       "      <td>1</td>\n",
       "      <td>12</td>\n",
       "    </tr>\n",
       "    <tr>\n",
       "      <th>1</th>\n",
       "      <td>2</td>\n",
       "      <td>11</td>\n",
       "    </tr>\n",
       "    <tr>\n",
       "      <th>2</th>\n",
       "      <td>3</td>\n",
       "      <td>11</td>\n",
       "    </tr>\n",
       "    <tr>\n",
       "      <th>3</th>\n",
       "      <td>4</td>\n",
       "      <td>11</td>\n",
       "    </tr>\n",
       "    <tr>\n",
       "      <th>4</th>\n",
       "      <td>5</td>\n",
       "      <td>19</td>\n",
       "    </tr>\n",
       "    <tr>\n",
       "      <th>5</th>\n",
       "      <td>6</td>\n",
       "      <td>9</td>\n",
       "    </tr>\n",
       "    <tr>\n",
       "      <th>6</th>\n",
       "      <td>7</td>\n",
       "      <td>10</td>\n",
       "    </tr>\n",
       "    <tr>\n",
       "      <th>7</th>\n",
       "      <td>8</td>\n",
       "      <td>12</td>\n",
       "    </tr>\n",
       "    <tr>\n",
       "      <th>8</th>\n",
       "      <td>9</td>\n",
       "      <td>6</td>\n",
       "    </tr>\n",
       "    <tr>\n",
       "      <th>9</th>\n",
       "      <td>10</td>\n",
       "      <td>9</td>\n",
       "    </tr>\n",
       "    <tr>\n",
       "      <th>10</th>\n",
       "      <td>11</td>\n",
       "      <td>8</td>\n",
       "    </tr>\n",
       "    <tr>\n",
       "      <th>11</th>\n",
       "      <td>12</td>\n",
       "      <td>6</td>\n",
       "    </tr>\n",
       "  </tbody>\n",
       "</table>\n",
       "</div>"
      ],
      "text/plain": [
       "    month  days_with_precip\n",
       "0       1                12\n",
       "1       2                11\n",
       "2       3                11\n",
       "3       4                11\n",
       "4       5                19\n",
       "5       6                 9\n",
       "6       7                10\n",
       "7       8                12\n",
       "8       9                 6\n",
       "9      10                 9\n",
       "10     11                 8\n",
       "11     12                 6"
      ]
     },
     "execution_count": 15,
     "metadata": {},
     "output_type": "execute_result"
    }
   ],
   "source": [
    "# Preview data\n",
    "days_with_precip"
   ]
  },
  {
   "cell_type": "markdown",
   "id": "needed-tonight",
   "metadata": {},
   "source": [
    "At a glance, these appear to be reasonable results. The values for number of days with precipitaion range between 6 and 19 per month. It would be concerning if there were more than 30 or less than 1 or 2.\n",
    "\n",
    "Let us set the month as the index then plot the results."
   ]
  },
  {
   "cell_type": "code",
   "execution_count": 16,
   "id": "normal-neutral",
   "metadata": {},
   "outputs": [
    {
     "data": {
      "text/html": [
       "<div>\n",
       "<style scoped>\n",
       "    .dataframe tbody tr th:only-of-type {\n",
       "        vertical-align: middle;\n",
       "    }\n",
       "\n",
       "    .dataframe tbody tr th {\n",
       "        vertical-align: top;\n",
       "    }\n",
       "\n",
       "    .dataframe thead th {\n",
       "        text-align: right;\n",
       "    }\n",
       "</style>\n",
       "<table border=\"1\" class=\"dataframe\">\n",
       "  <thead>\n",
       "    <tr style=\"text-align: right;\">\n",
       "      <th></th>\n",
       "      <th>days_with_precip</th>\n",
       "    </tr>\n",
       "    <tr>\n",
       "      <th>month</th>\n",
       "      <th></th>\n",
       "    </tr>\n",
       "  </thead>\n",
       "  <tbody>\n",
       "    <tr>\n",
       "      <th>1</th>\n",
       "      <td>12</td>\n",
       "    </tr>\n",
       "    <tr>\n",
       "      <th>2</th>\n",
       "      <td>11</td>\n",
       "    </tr>\n",
       "    <tr>\n",
       "      <th>3</th>\n",
       "      <td>11</td>\n",
       "    </tr>\n",
       "    <tr>\n",
       "      <th>4</th>\n",
       "      <td>11</td>\n",
       "    </tr>\n",
       "    <tr>\n",
       "      <th>5</th>\n",
       "      <td>19</td>\n",
       "    </tr>\n",
       "    <tr>\n",
       "      <th>6</th>\n",
       "      <td>9</td>\n",
       "    </tr>\n",
       "    <tr>\n",
       "      <th>7</th>\n",
       "      <td>10</td>\n",
       "    </tr>\n",
       "    <tr>\n",
       "      <th>8</th>\n",
       "      <td>12</td>\n",
       "    </tr>\n",
       "    <tr>\n",
       "      <th>9</th>\n",
       "      <td>6</td>\n",
       "    </tr>\n",
       "    <tr>\n",
       "      <th>10</th>\n",
       "      <td>9</td>\n",
       "    </tr>\n",
       "    <tr>\n",
       "      <th>11</th>\n",
       "      <td>8</td>\n",
       "    </tr>\n",
       "    <tr>\n",
       "      <th>12</th>\n",
       "      <td>6</td>\n",
       "    </tr>\n",
       "  </tbody>\n",
       "</table>\n",
       "</div>"
      ],
      "text/plain": [
       "       days_with_precip\n",
       "month                  \n",
       "1                    12\n",
       "2                    11\n",
       "3                    11\n",
       "4                    11\n",
       "5                    19\n",
       "6                     9\n",
       "7                    10\n",
       "8                    12\n",
       "9                     6\n",
       "10                    9\n",
       "11                    8\n",
       "12                    6"
      ]
     },
     "execution_count": 16,
     "metadata": {},
     "output_type": "execute_result"
    }
   ],
   "source": [
    "# Set month as index\n",
    "days_clean = days_with_precip.set_index('month')\n",
    "days_clean"
   ]
  },
  {
   "cell_type": "code",
   "execution_count": 17,
   "id": "retired-coordinator",
   "metadata": {},
   "outputs": [
    {
     "data": {
      "image/png": "[encoded data removed]",
      "text/plain": [
       "<Figure size 864x432 with 1 Axes>"
      ]
     },
     "metadata": {
      "needs_background": "light"
     },
     "output_type": "display_data"
    }
   ],
   "source": [
    "fig, ax = plt.subplots(figsize=(12, 6))\n",
    "days_clean.plot.bar(ax=ax, legend=False, rot=0)\n",
    "sns.despine()\n",
    "ax.set_ylabel('Days with Precipitation', fontsize=16)\n",
    "ax.set_xlabel('Month', fontsize=16)\n",
    "ax.set_title('Days with Precipitation by Month in 2020', fontsize=24)\n",
    "ax.set_yticks(np.arange(0,21,2))\n",
    "ax.tick_params(labelsize=12)"
   ]
  },
  {
   "cell_type": "markdown",
   "id": "surprising-ordinance",
   "metadata": {},
   "source": [
    "We see that May had by far the most days with some amount of precipitation, and there were generally fewer days with precipitation towards the end of the year. With this, it may be interesting to find the average amount of precipitation per precipitation event per month."
   ]
  },
  {
   "cell_type": "markdown",
   "id": "southwest-pressing",
   "metadata": {},
   "source": [
    "### Amount of Precipitaion per Day with Precipitation\n",
    "Finding the averag amount of precipitation per rainy day within a month is relatively trivial. All we will need to is divide the number of days with precipitation by the total amount of precipitation."
   ]
  },
  {
   "cell_type": "code",
   "execution_count": 18,
   "id": "prospective-standing",
   "metadata": {},
   "outputs": [
    {
     "data": {
      "text/plain": [
       "month\n",
       "1     0.515420\n",
       "2     0.331067\n",
       "3     0.587330\n",
       "4     0.170723\n",
       "5     0.234977\n",
       "6     0.812336\n",
       "7     0.287008\n",
       "8     0.367126\n",
       "9     0.406824\n",
       "10    0.929134\n",
       "11    0.369587\n",
       "12    0.444882\n",
       "dtype: float64"
      ]
     },
     "execution_count": 18,
     "metadata": {},
     "output_type": "execute_result"
    }
   ],
   "source": [
    "amount_per_event = monthly_clean['total_precip'] / days_clean['days_with_precip']\n",
    "amount_per_event"
   ]
  },
  {
   "cell_type": "code",
   "execution_count": 19,
   "id": "editorial-corporation",
   "metadata": {},
   "outputs": [
    {
     "data": {
      "image/png": "[encoded data removed]",
      "text/plain": [
       "<Figure size 864x432 with 1 Axes>"
      ]
     },
     "metadata": {
      "needs_background": "light"
     },
     "output_type": "display_data"
    }
   ],
   "source": [
    "fig, ax = plt.subplots(figsize=(12, 6))\n",
    "amount_per_event.plot.bar(ax=ax, legend=False, rot=0)\n",
    "sns.despine()\n",
    "ax.set_ylabel('Amount of Precipitation (in.)', fontsize=16)\n",
    "ax.set_xlabel('Month', fontsize=16)\n",
    "ax.set_title('Amount of Precipitation per Rain/snowfall by Month in 2020', fontsize=24)\n",
    "ax.tick_params(labelsize=12)"
   ]
  },
  {
   "cell_type": "markdown",
   "id": "bottom-theory",
   "metadata": {},
   "source": [
    "We see that October and June had particularly large storms on average, while months such as April and May had relatively small showers."
   ]
  },
  {
   "cell_type": "markdown",
   "id": "electoral-activity",
   "metadata": {},
   "source": [
    "## Data Sources\n",
    "GHCN-D: https://console.cloud.google.com/marketplace/product/noaa-public/ghcn-d\n",
    "\n",
    "GHCN-M: https://console.cloud.google.com/marketplace/product/noaa-public/ghcn-m"
   ]
  }
 ],
 "metadata": {
  "kernelspec": {
   "display_name": "Python 3",
   "language": "python",
   "name": "python3"
  },
  "language_info": {
   "codemirror_mode": {
    "name": "ipython",
    "version": 3
   },
   "file_extension": ".py",
   "mimetype": "text/x-python",
   "name": "python",
   "nbconvert_exporter": "python",
   "pygments_lexer": "ipython3",
   "version": "3.8.5"
  }
 },
 "nbformat": 4,
 "nbformat_minor": 5
}
